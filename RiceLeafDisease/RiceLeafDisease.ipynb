{
  "nbformat": 4,
  "nbformat_minor": 0,
  "metadata": {
    "colab": {
      "name": "RiceLeafDisease.ipynb",
      "provenance": []
    },
    "kernelspec": {
      "name": "python3",
      "display_name": "Python 3"
    },
    "language_info": {
      "name": "python"
    },
    "accelerator": "GPU"
  },
  "cells": [
    {
      "cell_type": "markdown",
      "source": [
        "# **Mount to Drive to retrieve data**"
      ],
      "metadata": {
        "id": "V9jLmiMAuSX-"
      }
    },
    {
      "cell_type": "code",
      "source": [
        "from google.colab import drive\n",
        "drive.mount('/content/gdrive')"
      ],
      "metadata": {
        "colab": {
          "base_uri": "https://localhost:8080/"
        },
        "id": "mqWrw_6UqbvE",
        "outputId": "183cea99-cb24-4d3e-94cb-2a1479794662"
      },
      "execution_count": 1,
      "outputs": [
        {
          "output_type": "stream",
          "name": "stdout",
          "text": [
            "Mounted at /content/gdrive\n"
          ]
        }
      ]
    },
    {
      "cell_type": "markdown",
      "source": [
        "# **Load and preprocess data**"
      ],
      "metadata": {
        "id": "dwbLLAsWuWjJ"
      }
    },
    {
      "cell_type": "code",
      "source": [
        "import numpy as np\n",
        "import pandas as pd\n",
        "from matplotlib import pyplot as plt\n",
        "\n",
        "import torch\n",
        "import torch.nn as nn\n",
        "import torchvision\n",
        "from torchvision import transforms"
      ],
      "metadata": {
        "id": "9d2NTt8mvOg8"
      },
      "execution_count": 2,
      "outputs": []
    },
    {
      "cell_type": "code",
      "source": [
        "device = torch.device('cuda' if torch.cuda.is_available() else 'cpu')\n",
        "device"
      ],
      "metadata": {
        "colab": {
          "base_uri": "https://localhost:8080/"
        },
        "id": "faoX_hgjzq1S",
        "outputId": "277afaf2-b49e-4ec1-cd78-9dca51c5df58"
      },
      "execution_count": 3,
      "outputs": [
        {
          "output_type": "execute_result",
          "data": {
            "text/plain": [
              "device(type='cuda')"
            ]
          },
          "metadata": {},
          "execution_count": 3
        }
      ]
    },
    {
      "cell_type": "code",
      "source": [
        "train_data = torchvision.datasets.ImageFolder(\n",
        "    'gdrive/MyDrive/Datasets/RiceLeafs/train',\n",
        "    transform = transforms.Compose([\n",
        "        transforms.Resize((224, 224)),\n",
        "        transforms.RandomHorizontalFlip(0.5),\n",
        "        transforms.RandomVerticalFlip(0.5),\n",
        "        transforms.ToTensor(),\n",
        "        transforms.Normalize([0.486, 0.456, 0.406], [0.229, 0.224, 0.225]),\n",
        "    ])\n",
        ")"
      ],
      "metadata": {
        "id": "4zvokNnxqsbE"
      },
      "execution_count": 4,
      "outputs": []
    },
    {
      "cell_type": "code",
      "source": [
        "validation_data = torchvision.datasets.ImageFolder(\n",
        "    'gdrive/MyDrive/Datasets/RiceLeafs/validation',\n",
        "    transform = transforms.Compose([\n",
        "        transforms.Resize((224, 224)),\n",
        "        transforms.ToTensor(),\n",
        "        transforms.Normalize([0.486, 0.456, 0.406], [0.229, 0.224, 0.225]),\n",
        "    ])\n",
        ")"
      ],
      "metadata": {
        "id": "n-zAxFxws8cS"
      },
      "execution_count": 5,
      "outputs": []
    },
    {
      "cell_type": "code",
      "source": [
        "train_loader = torch.utils.data.DataLoader(\n",
        "    train_data,\n",
        "    batch_size = 32,\n",
        "    shuffle = True,\n",
        "    num_workers = 2,\n",
        "    pin_memory = True,\n",
        ")"
      ],
      "metadata": {
        "id": "IPENTlZftQp5"
      },
      "execution_count": 6,
      "outputs": []
    },
    {
      "cell_type": "code",
      "source": [
        "validation_loader = torch.utils.data.DataLoader(\n",
        "    validation_data,\n",
        "    batch_size = 32,\n",
        "    shuffle = True,\n",
        "    num_workers = 2,\n",
        "    pin_memory = True,\n",
        ")"
      ],
      "metadata": {
        "id": "3Nks8ECZtfIF"
      },
      "execution_count": 7,
      "outputs": []
    },
    {
      "cell_type": "markdown",
      "source": [
        "# **Model**"
      ],
      "metadata": {
        "id": "Jx0d022EuZ77"
      }
    },
    {
      "cell_type": "code",
      "source": [
        "class Classifier(nn.Module):\n",
        "  def init_weights(self, layer):\n",
        "    if isinstance(layer, nn.Conv2d):\n",
        "      nn.init.kaiming_normal_(layer.weight)\n",
        "\n",
        "  def __init__(self):\n",
        "    super().__init__()\n",
        "\n",
        "    self.vgg_block_1 = nn.Sequential(\n",
        "        nn.Conv2d(3, 16, (3, 3), padding = 'same'),\n",
        "        nn.BatchNorm2d(16),\n",
        "        nn.ReLU(),\n",
        "    )\n",
        "\n",
        "    self.vgg_block_2 = nn.Sequential(\n",
        "        nn.Conv2d(16, 32, (3, 3), padding = 'same'),\n",
        "        nn.BatchNorm2d(32),\n",
        "        nn.ReLU(),\n",
        "    )\n",
        "\n",
        "    self.vgg_block_3 = nn.Sequential(\n",
        "      nn.Conv2d(32, 64, (3, 3), padding = 'same'),\n",
        "      nn.BatchNorm2d(64),\n",
        "      nn.ReLU(),\n",
        "    )\n",
        "\n",
        "    self.vgg_block_1.apply(self.init_weights)\n",
        "    self.vgg_block_2.apply(self.init_weights)\n",
        "    self.vgg_block_3.apply(self.init_weights)\n",
        "\n",
        "    self.maxpool = nn.MaxPool2d((2, 2), stride = 2)\n",
        "    self.dropout = nn.Dropout(0.5)\n",
        "\n",
        "    self.flatten = nn.Flatten()\n",
        "    self.fc1 = nn.Linear(64 * 28 * 28, 64)\n",
        "    nn.init.kaiming_normal_(self.fc1.weight)\n",
        "    self.bn1 = nn.BatchNorm1d(64)\n",
        "    self.a1 = nn.ReLU()\n",
        "\n",
        "    self.fc2 = nn.Linear(64, 4)\n",
        "    nn.init.xavier_normal_(self.fc2.weight)\n",
        "    self.bn2 = nn.BatchNorm1d(4)\n",
        "    self.softmax = nn.Softmax(dim = 1)\n",
        "\n",
        "  def forward(self, x):\n",
        "    x = self.vgg_block_1(x)\n",
        "    x = self.maxpool(x)\n",
        "    if self.training:\n",
        "      x = self.dropout(x)\n",
        "\n",
        "    x = self.vgg_block_2(x)\n",
        "    x = self.maxpool(x)\n",
        "    if self.training:\n",
        "      x = self.dropout(x)\n",
        "\n",
        "    x = self.vgg_block_3(x)\n",
        "    x = self.maxpool(x)\n",
        "    if self.training:\n",
        "      x = self.dropout(x)\n",
        "  \n",
        "    x = self.flatten(x)\n",
        "    x = self.fc1(x)\n",
        "    x = self.bn1(x)\n",
        "    x = self.a1(x)\n",
        "    if self.training:\n",
        "      x = self.dropout(x)\n",
        "\n",
        "    x = self.fc2(x)\n",
        "    x = self.bn2(x)\n",
        "    x = self.softmax(x)\n",
        "    return x"
      ],
      "metadata": {
        "id": "fpyZUex2uc4U"
      },
      "execution_count": 23,
      "outputs": []
    },
    {
      "cell_type": "code",
      "source": [
        "model = Classifier()\n",
        "model.to(device)"
      ],
      "metadata": {
        "colab": {
          "base_uri": "https://localhost:8080/"
        },
        "id": "28ihuM_uexu3",
        "outputId": "9a74d067-04ff-4adc-c2e2-d8aac8f4aa0d"
      },
      "execution_count": 24,
      "outputs": [
        {
          "output_type": "execute_result",
          "data": {
            "text/plain": [
              "Classifier(\n",
              "  (vgg_block_1): Sequential(\n",
              "    (0): Conv2d(3, 16, kernel_size=(3, 3), stride=(1, 1), padding=same)\n",
              "    (1): BatchNorm2d(16, eps=1e-05, momentum=0.1, affine=True, track_running_stats=True)\n",
              "    (2): ReLU()\n",
              "  )\n",
              "  (vgg_block_2): Sequential(\n",
              "    (0): Conv2d(16, 32, kernel_size=(3, 3), stride=(1, 1), padding=same)\n",
              "    (1): BatchNorm2d(32, eps=1e-05, momentum=0.1, affine=True, track_running_stats=True)\n",
              "    (2): ReLU()\n",
              "  )\n",
              "  (vgg_block_3): Sequential(\n",
              "    (0): Conv2d(32, 64, kernel_size=(3, 3), stride=(1, 1), padding=same)\n",
              "    (1): BatchNorm2d(64, eps=1e-05, momentum=0.1, affine=True, track_running_stats=True)\n",
              "    (2): ReLU()\n",
              "  )\n",
              "  (maxpool): MaxPool2d(kernel_size=(2, 2), stride=2, padding=0, dilation=1, ceil_mode=False)\n",
              "  (dropout): Dropout(p=0.5, inplace=False)\n",
              "  (flatten): Flatten(start_dim=1, end_dim=-1)\n",
              "  (fc1): Linear(in_features=50176, out_features=64, bias=True)\n",
              "  (bn1): BatchNorm1d(64, eps=1e-05, momentum=0.1, affine=True, track_running_stats=True)\n",
              "  (a1): ReLU()\n",
              "  (fc2): Linear(in_features=64, out_features=4, bias=True)\n",
              "  (bn2): BatchNorm1d(4, eps=1e-05, momentum=0.1, affine=True, track_running_stats=True)\n",
              "  (softmax): Softmax(dim=1)\n",
              ")"
            ]
          },
          "metadata": {},
          "execution_count": 24
        }
      ]
    },
    {
      "cell_type": "code",
      "source": [
        "criterion = nn.CrossEntropyLoss()\n",
        "optimizer = torch.optim.Adam(model.parameters(), lr = 1e-3, weight_decay = 1e-4)\n",
        "epochs = 20"
      ],
      "metadata": {
        "id": "BActVhfotm1j"
      },
      "execution_count": 26,
      "outputs": []
    },
    {
      "cell_type": "code",
      "source": [
        "train_loss_list = []\n",
        "train_accuracy_list = []\n",
        "val_loss_list = []\n",
        "val_accuracy_list = []"
      ],
      "metadata": {
        "id": "n94QUmP102Vl"
      },
      "execution_count": 27,
      "outputs": []
    },
    {
      "cell_type": "code",
      "source": [
        "for epoch in range(epochs):\n",
        "  model.train()\n",
        "  train_loss = 0\n",
        "  correct, total = 0, 0\n",
        "\n",
        "  for images, labels in train_loader:\n",
        "    optimizer.zero_grad()\n",
        "    outputs = model(images.to(device))\n",
        "    loss = criterion(outputs, labels.to(device))\n",
        "    loss.backward()\n",
        "    nn.utils.clip_grad_value_(model.parameters(), 0.5)\n",
        "    optimizer.step()\n",
        "\n",
        "    train_loss += loss.item()\n",
        "    total += len(labels.to(device))\n",
        "    correct += (outputs.argmax(dim = 1) == labels.to(device)).to(torch.int32).sum().item()\n",
        "\n",
        "  train_loss /= total\n",
        "  accuracy = correct / total\n",
        "\n",
        "  val_loss = 0\n",
        "  correct, total = 0, 0\n",
        "\n",
        "  with torch.no_grad():\n",
        "    model.eval()\n",
        "    for images, labels in validation_loader:\n",
        "      outputs = model(images.to(device))\n",
        "      loss = criterion(outputs, labels.to(device))\n",
        "      \n",
        "      val_loss += loss.item()\n",
        "      total += len(labels.to(device))\n",
        "      correct += (outputs.argmax(dim = 1) == labels.to(device)).to(torch.int32).sum().item()\n",
        "\n",
        "  val_loss /= total\n",
        "  val_accuracy = correct / total\n",
        "\n",
        "  train_loss_list.append(train_loss)\n",
        "  train_accuracy_list.append(accuracy)\n",
        "  val_loss_list.append(val_loss)\n",
        "  val_accuracy_list.append(val_accuracy)\n",
        "\n",
        "  print('Epoch %d - loss: %.4f - accuracy: %.4f - val_loss: %.4f - val_accuracy: %.4f' % (epoch + 1, train_loss, accuracy, val_loss, val_accuracy))"
      ],
      "metadata": {
        "colab": {
          "base_uri": "https://localhost:8080/"
        },
        "id": "Jz4P9XFT1EZ7",
        "outputId": "136bf8bd-08ab-4074-8285-9776526ffc38"
      },
      "execution_count": 28,
      "outputs": [
        {
          "output_type": "stream",
          "name": "stdout",
          "text": [
            "Epoch 1 - loss: 0.0400 - accuracy: 0.4814 - val_loss: 0.0424 - val_accuracy: 0.2638\n",
            "Epoch 2 - loss: 0.0386 - accuracy: 0.5499 - val_loss: 0.0429 - val_accuracy: 0.2504\n",
            "Epoch 3 - loss: 0.0381 - accuracy: 0.5771 - val_loss: 0.0423 - val_accuracy: 0.2966\n",
            "Epoch 4 - loss: 0.0376 - accuracy: 0.5879 - val_loss: 0.0420 - val_accuracy: 0.3502\n",
            "Epoch 5 - loss: 0.0372 - accuracy: 0.6028 - val_loss: 0.0419 - val_accuracy: 0.3487\n",
            "Epoch 6 - loss: 0.0370 - accuracy: 0.6140 - val_loss: 0.0415 - val_accuracy: 0.3949\n",
            "Epoch 7 - loss: 0.0368 - accuracy: 0.6118 - val_loss: 0.0422 - val_accuracy: 0.3487\n",
            "Epoch 8 - loss: 0.0366 - accuracy: 0.6095 - val_loss: 0.0424 - val_accuracy: 0.3368\n",
            "Epoch 9 - loss: 0.0364 - accuracy: 0.6140 - val_loss: 0.0423 - val_accuracy: 0.3666\n",
            "Epoch 10 - loss: 0.0362 - accuracy: 0.6215 - val_loss: 0.0421 - val_accuracy: 0.3696\n",
            "Epoch 11 - loss: 0.0359 - accuracy: 0.6226 - val_loss: 0.0419 - val_accuracy: 0.3592\n",
            "Epoch 12 - loss: 0.0358 - accuracy: 0.6237 - val_loss: 0.0437 - val_accuracy: 0.2846\n",
            "Epoch 13 - loss: 0.0358 - accuracy: 0.6222 - val_loss: 0.0445 - val_accuracy: 0.2712\n",
            "Epoch 14 - loss: 0.0357 - accuracy: 0.6226 - val_loss: 0.0428 - val_accuracy: 0.3383\n",
            "Epoch 15 - loss: 0.0357 - accuracy: 0.6196 - val_loss: 0.0415 - val_accuracy: 0.3949\n",
            "Epoch 16 - loss: 0.0355 - accuracy: 0.6304 - val_loss: 0.0420 - val_accuracy: 0.3830\n",
            "Epoch 17 - loss: 0.0354 - accuracy: 0.6360 - val_loss: 0.0437 - val_accuracy: 0.2981\n",
            "Epoch 18 - loss: 0.0354 - accuracy: 0.6319 - val_loss: 0.0417 - val_accuracy: 0.3934\n",
            "Epoch 19 - loss: 0.0352 - accuracy: 0.6364 - val_loss: 0.0418 - val_accuracy: 0.3890\n",
            "Epoch 20 - loss: 0.0353 - accuracy: 0.6297 - val_loss: 0.0427 - val_accuracy: 0.3621\n"
          ]
        }
      ]
    },
    {
      "cell_type": "code",
      "source": [
        "torch.save(model.state_dict(), 'model.pth')"
      ],
      "metadata": {
        "id": "q9Dw9XzbIVsf"
      },
      "execution_count": 29,
      "outputs": []
    },
    {
      "cell_type": "code",
      "source": [
        "plt.plot(train_loss_list, label = 'train_loss')\n",
        "plt.plot(val_loss_list, label = 'val_loss')\n",
        "plt.legend()\n",
        "plt.grid(True)"
      ],
      "metadata": {
        "colab": {
          "base_uri": "https://localhost:8080/",
          "height": 265
        },
        "id": "-96FZ3quIzLB",
        "outputId": "05489828-3109-4ca1-d22c-ef737d071592"
      },
      "execution_count": 32,
      "outputs": [
        {
          "output_type": "display_data",
          "data": {
            "image/png": "[encoded data removed]",
            "text/plain": [
              "<Figure size 432x288 with 1 Axes>"
            ]
          },
          "metadata": {
            "needs_background": "light"
          }
        }
      ]
    },
    {
      "cell_type": "code",
      "source": [
        "plt.plot(train_accuracy_list, label = 'accuracy')\n",
        "plt.plot(val_accuracy_list, label = 'val_accuracy')\n",
        "plt.legend()\n",
        "plt.grid(True)"
      ],
      "metadata": {
        "colab": {
          "base_uri": "https://localhost:8080/",
          "height": 266
        },
        "id": "uZIW7cOEI_mY",
        "outputId": "1a1f2ce1-531f-44d1-811c-67bbea22c105"
      },
      "execution_count": 33,
      "outputs": [
        {
          "output_type": "display_data",
          "data": {
            "image/png": "[encoded data removed]",
            "text/plain": [
              "<Figure size 432x288 with 1 Axes>"
            ]
          },
          "metadata": {
            "needs_background": "light"
          }
        }
      ]
    }
  ]
}