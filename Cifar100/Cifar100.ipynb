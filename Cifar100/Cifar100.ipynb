{
  "nbformat": 4,
  "nbformat_minor": 0,
  "metadata": {
    "accelerator": "GPU",
    "colab": {
      "name": "Cifar100.ipynb",
      "provenance": [],
      "collapsed_sections": []
    },
    "kernelspec": {
      "display_name": "Python 3",
      "name": "python3"
    },
    "language_info": {
      "name": "python"
    }
  },
  "cells": [
    {
      "cell_type": "markdown",
      "metadata": {
        "id": "vw3ZIXoNv6rE"
      },
      "source": [
        "# **Import necessary libraries**"
      ]
    },
    {
      "cell_type": "code",
      "metadata": {
        "id": "t4xF_bdvn1IM"
      },
      "source": [
        "import numpy as np\n",
        "import pandas as pd\n",
        "from matplotlib import pyplot as plt\n",
        "import cv2\n",
        "import tensorflow as tf\n",
        "from tensorflow import keras\n",
        "import sklearn\n",
        "from sklearn.model_selection import train_test_split\n",
        "from sklearn.preprocessing import MinMaxScaler, StandardScaler\n",
        "from sklearn.metrics import accuracy_score"
      ],
      "execution_count": 1,
      "outputs": []
    },
    {
      "cell_type": "markdown",
      "metadata": {
        "id": "W_W9_UfwwBQx"
      },
      "source": [
        "# **Load cifar100 datasets**"
      ]
    },
    {
      "cell_type": "code",
      "metadata": {
        "colab": {
          "base_uri": "https://localhost:8080/"
        },
        "id": "0hvtegxNu-0_",
        "outputId": "fb72cccb-2260-47e7-b0f4-e5bd34c338e3"
      },
      "source": [
        "(full_train_x, full_train_y), (test_x, test_y) = keras.datasets.cifar100.load_data()\n",
        "full_train_x.shape, full_train_y.shape, test_x.shape, test_y.shape"
      ],
      "execution_count": 2,
      "outputs": [
        {
          "output_type": "stream",
          "name": "stdout",
          "text": [
            "Downloading data from https://www.cs.toronto.edu/~kriz/cifar-100-python.tar.gz\n",
            "169009152/169001437 [==============================] - 3s 0us/step\n",
            "169017344/169001437 [==============================] - 3s 0us/step\n"
          ]
        },
        {
          "output_type": "execute_result",
          "data": {
            "text/plain": [
              "((50000, 32, 32, 3), (50000, 1), (10000, 32, 32, 3), (10000, 1))"
            ]
          },
          "metadata": {},
          "execution_count": 2
        }
      ]
    },
    {
      "cell_type": "code",
      "metadata": {
        "colab": {
          "base_uri": "https://localhost:8080/"
        },
        "id": "LTryGqeevZPy",
        "outputId": "fb4a1ea5-df7f-4bd8-95b6-84289bbeec97"
      },
      "source": [
        "np.unique(full_train_y)"
      ],
      "execution_count": 3,
      "outputs": [
        {
          "output_type": "execute_result",
          "data": {
            "text/plain": [
              "array([ 0,  1,  2,  3,  4,  5,  6,  7,  8,  9, 10, 11, 12, 13, 14, 15, 16,\n",
              "       17, 18, 19, 20, 21, 22, 23, 24, 25, 26, 27, 28, 29, 30, 31, 32, 33,\n",
              "       34, 35, 36, 37, 38, 39, 40, 41, 42, 43, 44, 45, 46, 47, 48, 49, 50,\n",
              "       51, 52, 53, 54, 55, 56, 57, 58, 59, 60, 61, 62, 63, 64, 65, 66, 67,\n",
              "       68, 69, 70, 71, 72, 73, 74, 75, 76, 77, 78, 79, 80, 81, 82, 83, 84,\n",
              "       85, 86, 87, 88, 89, 90, 91, 92, 93, 94, 95, 96, 97, 98, 99])"
            ]
          },
          "metadata": {},
          "execution_count": 3
        }
      ]
    },
    {
      "cell_type": "code",
      "metadata": {
        "colab": {
          "base_uri": "https://localhost:8080/"
        },
        "id": "kpyuL0R_vemW",
        "outputId": "dd5249e4-3cb5-488f-fa30-2d4d37c8aba9"
      },
      "source": [
        "full_train_y[0]"
      ],
      "execution_count": 4,
      "outputs": [
        {
          "output_type": "execute_result",
          "data": {
            "text/plain": [
              "array([19])"
            ]
          },
          "metadata": {},
          "execution_count": 4
        }
      ]
    },
    {
      "cell_type": "markdown",
      "metadata": {
        "id": "6w8O7VY1wHOI"
      },
      "source": [
        "# **Create cross-validation set**"
      ]
    },
    {
      "cell_type": "code",
      "metadata": {
        "colab": {
          "base_uri": "https://localhost:8080/"
        },
        "id": "4VDI8UFpvhcc",
        "outputId": "df1a74f6-f41d-4f40-8fb6-ba18a79cf42d"
      },
      "source": [
        "train_x, val_x, train_y, val_y = train_test_split(full_train_x, full_train_y, test_size = 0.2)\n",
        "train_x.shape, val_x.shape, train_y.shape, val_y.shape"
      ],
      "execution_count": 5,
      "outputs": [
        {
          "output_type": "execute_result",
          "data": {
            "text/plain": [
              "((40000, 32, 32, 3), (10000, 32, 32, 3), (40000, 1), (10000, 1))"
            ]
          },
          "metadata": {},
          "execution_count": 5
        }
      ]
    },
    {
      "cell_type": "markdown",
      "metadata": {
        "id": "qbDGREsavfjT"
      },
      "source": [
        "# **Resize each image to 64 x 64 (for ResNet only)**"
      ]
    },
    {
      "cell_type": "code",
      "metadata": {
        "id": "OgudearROg5y"
      },
      "source": [
        "new_train_x = np.zeros((train_x.shape[0], 64, 64, 3), dtype = np.uint8)\n",
        "new_val_x = np.zeros((val_x.shape[0], 64, 64, 3), dtype = np.uint8)\n",
        "new_test_x = np.zeros((test_x.shape[0], 64, 64, 3), dtype = np.uint8)\n",
        "for i in range(train_x.shape[0]):\n",
        "  new_train_x[i] = cv2.resize(train_x[i], (64, 64), interpolation = cv2.INTER_CUBIC)\n",
        "  \n",
        "for i in range(val_x.shape[0]):\n",
        "  new_val_x[i] = cv2.resize(val_x[i], (64, 64), interpolation = cv2.INTER_CUBIC)\n",
        "\n",
        "for i in range(test_x.shape[0]):\n",
        "  new_test_x[i] = cv2.resize(test_x[i], (64, 64), interpolation = cv2.INTER_CUBIC)"
      ],
      "execution_count": null,
      "outputs": []
    },
    {
      "cell_type": "code",
      "metadata": {
        "id": "7u5I6eW0UqF0"
      },
      "source": [
        "train_x, val_x, test_x = new_train_x, new_val_x, new_test_x"
      ],
      "execution_count": null,
      "outputs": []
    },
    {
      "cell_type": "markdown",
      "metadata": {
        "id": "PcL746k-wQFA"
      },
      "source": [
        "# **Normalize data**"
      ]
    },
    {
      "cell_type": "code",
      "metadata": {
        "colab": {
          "base_uri": "https://localhost:8080/"
        },
        "id": "qXUHLV_XPlNZ",
        "outputId": "c193fca8-8152-4699-ef46-405f52b3ce41"
      },
      "source": [
        "train_x.shape, val_x.shape, train_x[0].shape, val_x[0].shape"
      ],
      "execution_count": 6,
      "outputs": [
        {
          "output_type": "execute_result",
          "data": {
            "text/plain": [
              "((40000, 32, 32, 3), (10000, 32, 32, 3), (32, 32, 3), (32, 32, 3))"
            ]
          },
          "metadata": {},
          "execution_count": 6
        }
      ]
    },
    {
      "cell_type": "code",
      "metadata": {
        "id": "_PCx9hJ9wSTy"
      },
      "source": [
        "train_y = keras.utils.to_categorical(train_y)\n",
        "val_y = keras.utils.to_categorical(val_y)\n",
        "test_y = keras.utils.to_categorical(test_y)"
      ],
      "execution_count": 7,
      "outputs": []
    },
    {
      "cell_type": "code",
      "metadata": {
        "colab": {
          "base_uri": "https://localhost:8080/"
        },
        "id": "dKPBi03Cwzkt",
        "outputId": "cda806f7-dbae-4d87-8766-500cebdc81f1"
      },
      "source": [
        "train_y[0]"
      ],
      "execution_count": 8,
      "outputs": [
        {
          "output_type": "execute_result",
          "data": {
            "text/plain": [
              "array([0., 0., 0., 0., 0., 0., 0., 0., 0., 0., 0., 0., 0., 0., 0., 0., 0.,\n",
              "       0., 0., 0., 0., 0., 0., 0., 0., 0., 0., 0., 0., 0., 0., 0., 0., 0.,\n",
              "       0., 0., 0., 0., 0., 0., 0., 0., 0., 0., 0., 0., 0., 0., 0., 0., 0.,\n",
              "       0., 0., 0., 0., 0., 0., 0., 0., 0., 0., 0., 0., 0., 0., 0., 0., 0.,\n",
              "       0., 0., 0., 0., 0., 0., 0., 1., 0., 0., 0., 0., 0., 0., 0., 0., 0.,\n",
              "       0., 0., 0., 0., 0., 0., 0., 0., 0., 0., 0., 0., 0., 0., 0.],\n",
              "      dtype=float32)"
            ]
          },
          "metadata": {},
          "execution_count": 8
        }
      ]
    },
    {
      "cell_type": "code",
      "metadata": {
        "id": "rMbzjtzSxLa6"
      },
      "source": [
        "train_x = train_x.astype(np.float32)\n",
        "val_x = val_x.astype(np.float32)\n",
        "test_x = test_x.astype(np.float32)\n",
        "\n",
        "train_x /= 255.0\n",
        "val_x /= 255.0\n",
        "test_x /= 255.0"
      ],
      "execution_count": 9,
      "outputs": []
    },
    {
      "cell_type": "markdown",
      "metadata": {
        "id": "zBClvUNa9HaO"
      },
      "source": [
        "# **Create model**"
      ]
    },
    {
      "cell_type": "markdown",
      "metadata": {
        "id": "o-DlAt_TYoov"
      },
      "source": [
        "**Custom model (49.77% on test set)**"
      ]
    },
    {
      "cell_type": "code",
      "metadata": {
        "id": "YN3KVOUA9JvW"
      },
      "source": [
        "model = keras.models.Sequential()\n",
        "model.add(keras.layers.Conv2D(32, 3, activation = 'relu', input_shape = (64, 64, 3)))\n",
        "model.add(keras.layers.BatchNormalization())\n",
        "model.add(keras.layers.Conv2D(32, 3, activation = 'relu'))\n",
        "model.add(keras.layers.BatchNormalization())\n",
        "model.add(keras.layers.Conv2D(32, 5, strides = 2, activation = 'relu', padding = 'same'))\n",
        "model.add(keras.layers.BatchNormalization())\n",
        "model.add(keras.layers.Dropout(0.5))\n",
        "\n",
        "model.add(keras.layers.Conv2D(64, 3, activation = 'relu'))\n",
        "model.add(keras.layers.BatchNormalization())\n",
        "model.add(keras.layers.Conv2D(64, 3, activation = 'relu'))\n",
        "model.add(keras.layers.BatchNormalization())\n",
        "model.add(keras.layers.Conv2D(64, 5, strides = 2, activation = 'relu', padding = 'same'))\n",
        "model.add(keras.layers.BatchNormalization())\n",
        "model.add(keras.layers.Dropout(0.5))\n",
        "\n",
        "model.add(keras.layers.Flatten())\n",
        "model.add(keras.layers.Dense(512, activation = 'relu'))\n",
        "model.add(keras.layers.BatchNormalization())\n",
        "model.add(keras.layers.Dropout(0.5))\n",
        "\n",
        "model.add(keras.layers.Dense(100, activation = 'softmax'))"
      ],
      "execution_count": null,
      "outputs": []
    },
    {
      "cell_type": "markdown",
      "metadata": {
        "id": "ZbIJ56cg8mt3"
      },
      "source": [
        "**ResNet50**"
      ]
    },
    {
      "cell_type": "code",
      "metadata": {
        "id": "QBPuvVuQOWik"
      },
      "source": [
        "def identity_block(X, f, filters, stage, block):\n",
        "    # defining name basis\n",
        "    conv_name_base = 'res' + str(stage) + block + '_branch'\n",
        "    bn_name_base = 'bn' + str(stage) + block + '_branch'\n",
        "\n",
        "    # Retrieve Filters\n",
        "    F1, F2, F3 = filters\n",
        "\n",
        "    # Save the input value. We'll need this later to add back to the main path. \n",
        "    X_shortcut = X\n",
        "\n",
        "    # First component of main path\n",
        "    X = keras.layers.Conv2D(filters = F1, kernel_size = (1, 1), strides = (1,1), padding = 'valid', name = conv_name_base + '2a', kernel_initializer = keras.initializers.GlorotUniform(seed=0))(X)\n",
        "    X = keras.layers.BatchNormalization(axis = 3, name = bn_name_base + '2a')(X)\n",
        "    X = keras.layers.Activation('relu')(X)\n",
        "\n",
        "    # Second component of main path\n",
        "    X = keras.layers.Conv2D(filters = F2, kernel_size = (f, f), strides = (1,1), padding = 'same', name = conv_name_base + '2b', kernel_initializer = keras.initializers.GlorotUniform(seed=0))(X)\n",
        "    X = keras.layers.BatchNormalization(axis = 3, name = bn_name_base + '2b')(X)\n",
        "    X = keras.layers.Activation('relu')(X)\n",
        "\n",
        "    # Third component of main path\n",
        "    X = keras.layers.Conv2D(filters = F3, kernel_size = (1, 1), strides = (1,1), padding = 'valid', name = conv_name_base + '2c', kernel_initializer = keras.initializers.GlorotUniform(seed=0))(X)\n",
        "    X = keras.layers.BatchNormalization(axis = 3, name = bn_name_base + '2c')(X)\n",
        "\n",
        "    # Final step: Add shortcut value to main path, and pass it through a RELU activation\n",
        "    X = keras.layers.Add()([X, X_shortcut])\n",
        "    X = keras.layers.Activation('relu')(X)\n",
        "\n",
        "    return X\n"
      ],
      "execution_count": null,
      "outputs": []
    },
    {
      "cell_type": "code",
      "metadata": {
        "id": "vwqTQouqTOKq"
      },
      "source": [
        "def convolutional_block(X, f, filters, stage, block, s = 2):\n",
        "    # defining name basis\n",
        "    conv_name_base = 'res' + str(stage) + block + '_branch'\n",
        "    bn_name_base = 'bn' + str(stage) + block + '_branch'\n",
        "    \n",
        "    # Retrieve Filters\n",
        "    F1, F2, F3 = filters\n",
        "    \n",
        "    # Save the input value\n",
        "    X_shortcut = X\n",
        "\n",
        "\n",
        "    ##### MAIN PATH #####\n",
        "    # First component of main path \n",
        "    X = keras.layers.Conv2D(F1, (1, 1), strides = (s,s), name = conv_name_base + '2a', kernel_initializer = keras.initializers.GlorotUniform(seed=0))(X)\n",
        "    X = keras.layers.BatchNormalization(axis = 3, name = bn_name_base + '2a')(X)\n",
        "    X = keras.layers.Activation('relu')(X)\n",
        "\n",
        "    # Second component of main path\n",
        "    X = keras.layers.Conv2D(filters=F2, kernel_size=(f, f), strides=(1, 1), padding='same', name=conv_name_base + '2b', kernel_initializer = keras.initializers.GlorotUniform(seed=0))(X)\n",
        "    X = keras.layers.BatchNormalization(axis=3, name=bn_name_base + '2b')(X)\n",
        "    X = keras.layers.Activation('relu')(X)\n",
        "\n",
        "    # Third component of main path\n",
        "    X = keras.layers.Conv2D(filters=F3, kernel_size=(1, 1), strides=(1, 1), padding='valid', name=conv_name_base + '2c', kernel_initializer = keras.initializers.GlorotUniform(seed=0))(X)\n",
        "    X = keras.layers.BatchNormalization(axis=3, name=bn_name_base + '2c')(X)\n",
        "\n",
        "    \n",
        "    ##### SHORTCUT PATH ####\n",
        "    X_shortcut = keras.layers.Conv2D(F3, (1, 1), strides = (s,s), name = conv_name_base + '1', kernel_initializer = keras.initializers.GlorotUniform(seed=0))(X_shortcut)\n",
        "    X_shortcut = keras.layers.BatchNormalization(axis = 3, name = bn_name_base + '1')(X_shortcut)\n",
        "\n",
        "    # Final step: Add shortcut value to main path, and pass it through a RELU activation\n",
        "    X = keras.layers.Add()([X, X_shortcut])\n",
        "    X = keras.layers.Activation('relu')(X)\n",
        "    \n",
        "    return X"
      ],
      "execution_count": null,
      "outputs": []
    },
    {
      "cell_type": "code",
      "metadata": {
        "id": "JEPO245aTTR4"
      },
      "source": [
        "def ResNet50(input_shape = (64, 64, 3), classes = 2):   \n",
        "    # Define the input as a tensor with shape input_shape\n",
        "    X_input = keras.layers.Input(input_shape)\n",
        "\n",
        "    # Zero-Padding\n",
        "    X = keras.layers.ZeroPadding2D((3, 3))(X_input)\n",
        "    \n",
        "    # Stage 1\n",
        "    X = keras.layers.Conv2D(64, (7, 7), strides = (2, 2), name = 'conv1', kernel_initializer = keras.initializers.GlorotUniform(seed=0))(X)\n",
        "    X = keras.layers.BatchNormalization(axis = 3, name = 'bn_conv1')(X)\n",
        "    X = keras.layers.Activation('relu')(X)\n",
        "    X = keras.layers.MaxPooling2D((3, 3), strides=(2, 2))(X)\n",
        "\n",
        "    # Stage 2\n",
        "    X = convolutional_block(X, f = 3, filters = [64, 64, 256], stage = 2, block='a', s = 1)\n",
        "    X = identity_block(X, 3, [64, 64, 256], stage=2, block='b')\n",
        "    X = identity_block(X, 3, [64, 64, 256], stage=2, block='c')\n",
        "\n",
        "    # Stage 3\n",
        "    X = convolutional_block(X, f = 3, filters = [128, 128, 512], stage = 3, block='a', s = 2)\n",
        "    X = identity_block(X, 3, [128, 128, 512], stage=3, block='b')\n",
        "    X = identity_block(X, 3, [128, 128, 512], stage=3, block='c')\n",
        "    X = identity_block(X, 3, [128, 128, 512], stage=3, block='d')\n",
        "\n",
        "    # Stage 4\n",
        "    X = convolutional_block(X, f = 3, filters = [256, 256, 1024], stage = 4, block='a', s = 2)\n",
        "    X = identity_block(X, 3, [256, 256, 1024], stage=4, block='b')\n",
        "    X = identity_block(X, 3, [256, 256, 1024], stage=4, block='c')\n",
        "    X = identity_block(X, 3, [256, 256, 1024], stage=4, block='d')\n",
        "    X = identity_block(X, 3, [256, 256, 1024], stage=4, block='e')\n",
        "    X = identity_block(X, 3, [256, 256, 1024], stage=4, block='f')\n",
        "\n",
        "    # Stage 5\n",
        "    X = convolutional_block(X, f = 3, filters = [512, 512, 2048], stage = 5, block='a', s = 2)\n",
        "    X = identity_block(X, 3, [512, 512, 2048], stage=5, block='b')\n",
        "    X = identity_block(X, 3, [512, 512, 2048], stage=5, block='c')\n",
        "\n",
        "    # AVGPOOL.\n",
        "    X = keras.layers.AveragePooling2D((2, 2), name='avg_pool')(X)\n",
        "\n",
        "    # output layer\n",
        "    X = keras.layers.Flatten()(X)\n",
        "    X = keras.layers.Dense(classes, activation='softmax', name='fc' + str(classes), kernel_initializer = keras.initializers.GlorotUniform(seed=0))(X)\n",
        "    \n",
        "    # Create model\n",
        "    model = keras.models.Model(inputs = X_input, outputs = X, name='ResNet50')\n",
        "\n",
        "    return model"
      ],
      "execution_count": null,
      "outputs": []
    },
    {
      "cell_type": "code",
      "metadata": {
        "id": "mnOz17XsTZm3"
      },
      "source": [
        "model = ResNet50(input_shape = (64, 64, 3), classes = 100)"
      ],
      "execution_count": null,
      "outputs": []
    },
    {
      "cell_type": "markdown",
      "metadata": {
        "id": "KCNzspGLu3AX"
      },
      "source": [
        "**Custom model with 3 CNNs and 1 FC**"
      ]
    },
    {
      "cell_type": "code",
      "metadata": {
        "id": "D22T5we8vLIj"
      },
      "source": [
        "model = keras.models.Sequential()\n",
        "model.add(keras.layers.Conv2D(128, (3, 3), padding = 'same', input_shape = (32, 32, 3)))\n",
        "model.add(keras.layers.Activation('elu'))\n",
        "model.add(keras.layers.Conv2D(128, (3, 3)))\n",
        "model.add(keras.layers.Activation('elu'))\n",
        "model.add(keras.layers.MaxPooling2D())\n",
        "model.add(keras.layers.Dropout(0.1))\n",
        "\n",
        "model.add(keras.layers.Conv2D(256, (3, 3), padding = 'same'))\n",
        "model.add(keras.layers.Activation('elu'))\n",
        "model.add(keras.layers.Conv2D(256, (3, 3)))\n",
        "model.add(keras.layers.Activation('elu'))\n",
        "model.add(keras.layers.MaxPooling2D())\n",
        "model.add(keras.layers.Dropout(0.25))\n",
        "\n",
        "model.add(keras.layers.Conv2D(512, (3, 3), padding = 'same'))\n",
        "model.add(keras.layers.Activation('elu'))\n",
        "model.add(keras.layers.Conv2D(512, (3, 3)))\n",
        "model.add(keras.layers.Activation('elu'))\n",
        "model.add(keras.layers.MaxPooling2D())\n",
        "model.add(keras.layers.Dropout(0.5))\n",
        "\n",
        "model.add(keras.layers.Flatten())\n",
        "model.add(keras.layers.Dense(1024))\n",
        "model.add(keras.layers.Activation('relu'))\n",
        "model.add(keras.layers.Dropout(0.5))\n",
        "model.add(keras.layers.Dense(100))\n",
        "model.add(keras.layers.Activation('softmax'))"
      ],
      "execution_count": 17,
      "outputs": []
    },
    {
      "cell_type": "markdown",
      "metadata": {
        "id": "Rzj6_MNaVb6K"
      },
      "source": [
        "# **Model architecture**"
      ]
    },
    {
      "cell_type": "code",
      "metadata": {
        "colab": {
          "base_uri": "https://localhost:8080/"
        },
        "id": "ha0VZ48i-kdN",
        "outputId": "2ed5f5d8-0375-4680-a77c-1500bc454569"
      },
      "source": [
        "model.summary()"
      ],
      "execution_count": 18,
      "outputs": [
        {
          "output_type": "stream",
          "name": "stdout",
          "text": [
            "Model: \"sequential_1\"\n",
            "_________________________________________________________________\n",
            "Layer (type)                 Output Shape              Param #   \n",
            "=================================================================\n",
            "conv2d_6 (Conv2D)            (None, 32, 32, 128)       3584      \n",
            "_________________________________________________________________\n",
            "activation_8 (Activation)    (None, 32, 32, 128)       0         \n",
            "_________________________________________________________________\n",
            "conv2d_7 (Conv2D)            (None, 30, 30, 128)       147584    \n",
            "_________________________________________________________________\n",
            "activation_9 (Activation)    (None, 30, 30, 128)       0         \n",
            "_________________________________________________________________\n",
            "max_pooling2d_3 (MaxPooling2 (None, 15, 15, 128)       0         \n",
            "_________________________________________________________________\n",
            "dropout_4 (Dropout)          (None, 15, 15, 128)       0         \n",
            "_________________________________________________________________\n",
            "conv2d_8 (Conv2D)            (None, 15, 15, 256)       295168    \n",
            "_________________________________________________________________\n",
            "activation_10 (Activation)   (None, 15, 15, 256)       0         \n",
            "_________________________________________________________________\n",
            "conv2d_9 (Conv2D)            (None, 13, 13, 256)       590080    \n",
            "_________________________________________________________________\n",
            "activation_11 (Activation)   (None, 13, 13, 256)       0         \n",
            "_________________________________________________________________\n",
            "max_pooling2d_4 (MaxPooling2 (None, 6, 6, 256)         0         \n",
            "_________________________________________________________________\n",
            "dropout_5 (Dropout)          (None, 6, 6, 256)         0         \n",
            "_________________________________________________________________\n",
            "conv2d_10 (Conv2D)           (None, 6, 6, 512)         1180160   \n",
            "_________________________________________________________________\n",
            "activation_12 (Activation)   (None, 6, 6, 512)         0         \n",
            "_________________________________________________________________\n",
            "conv2d_11 (Conv2D)           (None, 4, 4, 512)         2359808   \n",
            "_________________________________________________________________\n",
            "activation_13 (Activation)   (None, 4, 4, 512)         0         \n",
            "_________________________________________________________________\n",
            "max_pooling2d_5 (MaxPooling2 (None, 2, 2, 512)         0         \n",
            "_________________________________________________________________\n",
            "dropout_6 (Dropout)          (None, 2, 2, 512)         0         \n",
            "_________________________________________________________________\n",
            "flatten_1 (Flatten)          (None, 2048)              0         \n",
            "_________________________________________________________________\n",
            "dense_2 (Dense)              (None, 1024)              2098176   \n",
            "_________________________________________________________________\n",
            "activation_14 (Activation)   (None, 1024)              0         \n",
            "_________________________________________________________________\n",
            "dropout_7 (Dropout)          (None, 1024)              0         \n",
            "_________________________________________________________________\n",
            "dense_3 (Dense)              (None, 100)               102500    \n",
            "_________________________________________________________________\n",
            "activation_15 (Activation)   (None, 100)               0         \n",
            "=================================================================\n",
            "Total params: 6,777,060\n",
            "Trainable params: 6,777,060\n",
            "Non-trainable params: 0\n",
            "_________________________________________________________________\n"
          ]
        }
      ]
    },
    {
      "cell_type": "code",
      "metadata": {
        "colab": {
          "base_uri": "https://localhost:8080/",
          "height": 1000
        },
        "id": "_y2hSgdt-m5A",
        "outputId": "7c81a6d1-d8f2-4df1-94dc-8766499ac0cb"
      },
      "source": [
        "keras.utils.plot_model(model)"
      ],
      "execution_count": 19,
      "outputs": [
        {
          "output_type": "execute_result",
          "data": {
            "image/png": "[encoded data removed]",
            "text/plain": [
              "<IPython.core.display.Image object>"
            ]
          },
          "metadata": {},
          "execution_count": 19
        }
      ]
    },
    {
      "cell_type": "markdown",
      "metadata": {
        "id": "nsNsworcVgEa"
      },
      "source": [
        "# **Compile model**"
      ]
    },
    {
      "cell_type": "code",
      "metadata": {
        "id": "oPknaYdb-qHp"
      },
      "source": [
        "model.compile(\n",
        "    loss = 'categorical_crossentropy',\n",
        "    optimizer = keras.optimizers.Adam(learning_rate = 1e-4),\n",
        "    metrics = ['accuracy'],\n",
        ")"
      ],
      "execution_count": 20,
      "outputs": []
    },
    {
      "cell_type": "markdown",
      "metadata": {
        "id": "AwXCGGD_Ur0R"
      },
      "source": [
        "# **Train model**"
      ]
    },
    {
      "cell_type": "code",
      "metadata": {
        "colab": {
          "base_uri": "https://localhost:8080/"
        },
        "id": "i_cdrt3h--t2",
        "outputId": "6b1501f7-4aab-43dc-8330-45487e5859c0"
      },
      "source": [
        "history = model.fit(train_x, train_y, epochs = 40, validation_data = (val_x, val_y))"
      ],
      "execution_count": 21,
      "outputs": [
        {
          "output_type": "stream",
          "name": "stdout",
          "text": [
            "Epoch 1/40\n",
            "1250/1250 [==============================] - 62s 49ms/step - loss: 4.1035 - accuracy: 0.0769 - val_loss: 3.5343 - val_accuracy: 0.1712\n",
            "Epoch 2/40\n",
            "1250/1250 [==============================] - 61s 49ms/step - loss: 3.4629 - accuracy: 0.1788 - val_loss: 2.9796 - val_accuracy: 0.2805\n",
            "Epoch 3/40\n",
            "1250/1250 [==============================] - 61s 49ms/step - loss: 3.0460 - accuracy: 0.2533 - val_loss: 2.6673 - val_accuracy: 0.3321\n",
            "Epoch 4/40\n",
            "1250/1250 [==============================] - 61s 49ms/step - loss: 2.7773 - accuracy: 0.3050 - val_loss: 2.4693 - val_accuracy: 0.3783\n",
            "Epoch 5/40\n",
            "1250/1250 [==============================] - 61s 49ms/step - loss: 2.5996 - accuracy: 0.3419 - val_loss: 2.3426 - val_accuracy: 0.4018\n",
            "Epoch 6/40\n",
            "1250/1250 [==============================] - 61s 49ms/step - loss: 2.4523 - accuracy: 0.3708 - val_loss: 2.2814 - val_accuracy: 0.4189\n",
            "Epoch 7/40\n",
            "1250/1250 [==============================] - 61s 49ms/step - loss: 2.3283 - accuracy: 0.3996 - val_loss: 2.1984 - val_accuracy: 0.4335\n",
            "Epoch 8/40\n",
            "1250/1250 [==============================] - 61s 49ms/step - loss: 2.2217 - accuracy: 0.4218 - val_loss: 2.1229 - val_accuracy: 0.4491\n",
            "Epoch 9/40\n",
            "1250/1250 [==============================] - 61s 49ms/step - loss: 2.1200 - accuracy: 0.4405 - val_loss: 2.0655 - val_accuracy: 0.4644\n",
            "Epoch 10/40\n",
            "1250/1250 [==============================] - 61s 49ms/step - loss: 2.0376 - accuracy: 0.4590 - val_loss: 2.0499 - val_accuracy: 0.4681\n",
            "Epoch 11/40\n",
            "1250/1250 [==============================] - 61s 49ms/step - loss: 1.9548 - accuracy: 0.4791 - val_loss: 1.9872 - val_accuracy: 0.4801\n",
            "Epoch 12/40\n",
            "1250/1250 [==============================] - 61s 49ms/step - loss: 1.8650 - accuracy: 0.4983 - val_loss: 1.9500 - val_accuracy: 0.4891\n",
            "Epoch 13/40\n",
            "1250/1250 [==============================] - 61s 49ms/step - loss: 1.7957 - accuracy: 0.5096 - val_loss: 1.9681 - val_accuracy: 0.4876\n",
            "Epoch 14/40\n",
            "1250/1250 [==============================] - 61s 49ms/step - loss: 1.7201 - accuracy: 0.5284 - val_loss: 1.9520 - val_accuracy: 0.4879\n",
            "Epoch 15/40\n",
            "1250/1250 [==============================] - 61s 49ms/step - loss: 1.6603 - accuracy: 0.5418 - val_loss: 1.8898 - val_accuracy: 0.5032\n",
            "Epoch 16/40\n",
            "1250/1250 [==============================] - 61s 49ms/step - loss: 1.6030 - accuracy: 0.5549 - val_loss: 1.8919 - val_accuracy: 0.5082\n",
            "Epoch 17/40\n",
            "1250/1250 [==============================] - 61s 49ms/step - loss: 1.5497 - accuracy: 0.5688 - val_loss: 1.8728 - val_accuracy: 0.5089\n",
            "Epoch 18/40\n",
            "1250/1250 [==============================] - 61s 49ms/step - loss: 1.4831 - accuracy: 0.5820 - val_loss: 1.8548 - val_accuracy: 0.5130\n",
            "Epoch 19/40\n",
            "1250/1250 [==============================] - 61s 49ms/step - loss: 1.4425 - accuracy: 0.5888 - val_loss: 1.8768 - val_accuracy: 0.5120\n",
            "Epoch 20/40\n",
            "1250/1250 [==============================] - 61s 49ms/step - loss: 1.3759 - accuracy: 0.6087 - val_loss: 1.8585 - val_accuracy: 0.5074\n",
            "Epoch 21/40\n",
            "1250/1250 [==============================] - 61s 49ms/step - loss: 1.3319 - accuracy: 0.6194 - val_loss: 1.8641 - val_accuracy: 0.5145\n",
            "Epoch 22/40\n",
            "1250/1250 [==============================] - 61s 49ms/step - loss: 1.2883 - accuracy: 0.6291 - val_loss: 1.8444 - val_accuracy: 0.5196\n",
            "Epoch 23/40\n",
            "1250/1250 [==============================] - 61s 49ms/step - loss: 1.2361 - accuracy: 0.6406 - val_loss: 1.8535 - val_accuracy: 0.5198\n",
            "Epoch 24/40\n",
            "1250/1250 [==============================] - 61s 49ms/step - loss: 1.2115 - accuracy: 0.6451 - val_loss: 1.8469 - val_accuracy: 0.5155\n",
            "Epoch 25/40\n",
            "1250/1250 [==============================] - 61s 49ms/step - loss: 1.1593 - accuracy: 0.6578 - val_loss: 1.8690 - val_accuracy: 0.5220\n",
            "Epoch 26/40\n",
            "1250/1250 [==============================] - 61s 49ms/step - loss: 1.1135 - accuracy: 0.6742 - val_loss: 1.8945 - val_accuracy: 0.5224\n",
            "Epoch 27/40\n",
            "1250/1250 [==============================] - 61s 49ms/step - loss: 1.0810 - accuracy: 0.6788 - val_loss: 1.8692 - val_accuracy: 0.5224\n",
            "Epoch 28/40\n",
            "1250/1250 [==============================] - 61s 49ms/step - loss: 1.0549 - accuracy: 0.6878 - val_loss: 1.8796 - val_accuracy: 0.5219\n",
            "Epoch 29/40\n",
            "1250/1250 [==============================] - 61s 49ms/step - loss: 1.0267 - accuracy: 0.6956 - val_loss: 1.8824 - val_accuracy: 0.5271\n",
            "Epoch 30/40\n",
            "1250/1250 [==============================] - 62s 49ms/step - loss: 0.9915 - accuracy: 0.7038 - val_loss: 1.9273 - val_accuracy: 0.5239\n",
            "Epoch 31/40\n",
            "1250/1250 [==============================] - 61s 49ms/step - loss: 0.9628 - accuracy: 0.7102 - val_loss: 1.9108 - val_accuracy: 0.5263\n",
            "Epoch 32/40\n",
            "1250/1250 [==============================] - 61s 49ms/step - loss: 0.9385 - accuracy: 0.7177 - val_loss: 1.9065 - val_accuracy: 0.5269\n",
            "Epoch 33/40\n",
            "1250/1250 [==============================] - 61s 49ms/step - loss: 0.9171 - accuracy: 0.7234 - val_loss: 1.9750 - val_accuracy: 0.5275\n",
            "Epoch 34/40\n",
            "1250/1250 [==============================] - 61s 49ms/step - loss: 0.8867 - accuracy: 0.7326 - val_loss: 1.9483 - val_accuracy: 0.5318\n",
            "Epoch 35/40\n",
            "1250/1250 [==============================] - 61s 49ms/step - loss: 0.8528 - accuracy: 0.7408 - val_loss: 1.9492 - val_accuracy: 0.5330\n",
            "Epoch 36/40\n",
            "1250/1250 [==============================] - 61s 49ms/step - loss: 0.8479 - accuracy: 0.7420 - val_loss: 1.8835 - val_accuracy: 0.5292\n",
            "Epoch 37/40\n",
            "1250/1250 [==============================] - 61s 49ms/step - loss: 0.8156 - accuracy: 0.7502 - val_loss: 1.9980 - val_accuracy: 0.5300\n",
            "Epoch 38/40\n",
            "1250/1250 [==============================] - 61s 49ms/step - loss: 0.7970 - accuracy: 0.7541 - val_loss: 1.9380 - val_accuracy: 0.5300\n",
            "Epoch 39/40\n",
            "1250/1250 [==============================] - 61s 49ms/step - loss: 0.7780 - accuracy: 0.7597 - val_loss: 1.9588 - val_accuracy: 0.5327\n",
            "Epoch 40/40\n",
            "1250/1250 [==============================] - 61s 49ms/step - loss: 0.7642 - accuracy: 0.7652 - val_loss: 1.9950 - val_accuracy: 0.5301\n"
          ]
        }
      ]
    },
    {
      "cell_type": "markdown",
      "metadata": {
        "id": "x1JvcjW5Umja"
      },
      "source": [
        "# **Plot graph**"
      ]
    },
    {
      "cell_type": "code",
      "metadata": {
        "id": "gNue_WbSUcT8",
        "colab": {
          "base_uri": "https://localhost:8080/",
          "height": 378
        },
        "outputId": "e577fa59-945d-4fe8-95a7-7120ffebae69"
      },
      "source": [
        "pd.DataFrame(history.history).plot(figsize = (12, 6))\n",
        "plt.grid(True)\n",
        "plt.gca().set_ylim(0, 1)\n",
        "plt.show()"
      ],
      "execution_count": 25,
      "outputs": [
        {
          "output_type": "display_data",
          "data": {
            "image/png": "[encoded data removed]",
            "text/plain": [
              "<Figure size 864x432 with 1 Axes>"
            ]
          },
          "metadata": {
            "needs_background": "light"
          }
        }
      ]
    },
    {
      "cell_type": "markdown",
      "metadata": {
        "id": "w2so8ZxtVPWl"
      },
      "source": [
        "# **Evaluate**"
      ]
    },
    {
      "cell_type": "code",
      "metadata": {
        "id": "qAhQDp-5U8rX",
        "colab": {
          "base_uri": "https://localhost:8080/"
        },
        "outputId": "047fa9f9-03da-4790-fe69-513108682a0c"
      },
      "source": [
        "model.evaluate(test_x, test_y)"
      ],
      "execution_count": 23,
      "outputs": [
        {
          "output_type": "stream",
          "name": "stdout",
          "text": [
            "313/313 [==============================] - 5s 16ms/step - loss: 1.9735 - accuracy: 0.5365\n"
          ]
        },
        {
          "output_type": "execute_result",
          "data": {
            "text/plain": [
              "[1.973499059677124, 0.5364999771118164]"
            ]
          },
          "metadata": {},
          "execution_count": 23
        }
      ]
    }
  ]
}